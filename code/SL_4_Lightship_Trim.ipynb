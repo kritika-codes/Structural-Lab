{
  "nbformat": 4,
  "nbformat_minor": 0,
  "metadata": {
    "colab": {
      "provenance": []
    },
    "kernelspec": {
      "name": "python3",
      "display_name": "Python 3"
    },
    "language_info": {
      "name": "python"
    }
  },
  "cells": [
    {
      "cell_type": "code",
      "source": [
        "import numpy as np\n",
        "import pandas as pd\n",
        "import matplotlib.pyplot as plt"
      ],
      "metadata": {
        "id": "KtcJlXEUHqjM"
      },
      "execution_count": null,
      "outputs": []
    },
    {
      "cell_type": "code",
      "source": [
        "hydrostatics_df=pd.read_excel('/content/hydrostatics.xlsx')\n",
        "area_df=pd.read_excel('/content/Sectional_Area.xlsx')"
      ],
      "metadata": {
        "id": "UAz9e7kB8Rxh"
      },
      "execution_count": null,
      "outputs": []
    },
    {
      "cell_type": "code",
      "source": [
        "def get_drafts(trim, lcf, lbp, T):\n",
        "  del_t_aft=(lcf/lbp)*trim\n",
        "  del_t_fwd=trim-del_t_aft\n",
        "\n",
        "  T_aft=T-del_t_aft\n",
        "  T_fwd=T+del_t_fwd\n",
        "\n",
        "  T_mean=(T_aft+T_fwd)/2\n",
        "  return T_aft, T_fwd, T_mean\n",
        "\n",
        "\n",
        "\n",
        "def get_lcf(T_mean, hydrostatics_df):\n",
        "  lcf=np.interp(T_mean,hydrostatics_df['z'],hydrostatics_df['LCF'])\n",
        "  return lcf\n",
        "\n",
        "\n",
        "\n",
        "def get_sectional_area(area_df, df):\n",
        "    result = []\n",
        "    z_values = area_df.iloc[:,0].to_numpy()\n",
        "    for _, row in df.iterrows():\n",
        "        x = row['x']\n",
        "        z = row['t']\n",
        "\n",
        "        area_values = area_df[x].to_numpy()     # Sectional Area curve at x\n",
        "        interpolated_area = np.interp(z, z_values, area_values) # Passing z, area arrays to interpolate\n",
        "\n",
        "        result.append({'x': x, 'z': z, 'area': interpolated_area})\n",
        "\n",
        "    return pd.DataFrame(result)\n",
        "\n",
        "\n",
        "\n",
        "def get_buoyancy(area_df, T_aft, T_fwd):\n",
        "\n",
        "  x_values=area_df.columns[1:].astype(float)\n",
        "  x0=x_values[0]\n",
        "  xl=x_values[-1]\n",
        "\n",
        "  t=[]\n",
        "  for i in range(len(x_values)):\n",
        "    t.append(T_aft+((T_fwd-T_aft)/(xl-x0))*(x_values[i]-x0))\n",
        "\n",
        "  df=pd.DataFrame({'x':x_values,'t':t})\n",
        "  result = get_sectional_area(area_df, df)\n",
        "\n",
        "  underwater_volume=np.trapz(result['area'],result['x'])\n",
        "  buoyancy=1.025*underwater_volume\n",
        "  lcb=np.trapz(result['area']*result['x'],result['x'])/underwater_volume\n",
        "\n",
        "  return buoyancy, lcb, result"
      ],
      "metadata": {
        "id": "jcpfUGSascpd"
      },
      "execution_count": null,
      "outputs": []
    },
    {
      "cell_type": "code",
      "source": [
        "# From load curve\n",
        "W=8329.839706\n",
        "lcg=68.82575974\n",
        "lbp=160.8"
      ],
      "metadata": {
        "id": "cPIllphiW9o8"
      },
      "execution_count": null,
      "outputs": []
    },
    {
      "cell_type": "code",
      "source": [
        "T=np.interp(W,hydrostatics_df['Weight'],hydrostatics_df['z'])\n",
        "lcb=np.interp(T,hydrostatics_df['z'],hydrostatics_df['LCB'])\n",
        "mctc=np.interp(T,hydrostatics_df['z'],hydrostatics_df['MTC'])\n",
        "lcf=np.interp(T,hydrostatics_df['z'],hydrostatics_df['LCF'])\n",
        "\n",
        "print(T)\n",
        "print(lcf)"
      ],
      "metadata": {
        "id": "NtXrZ0iB8OK2",
        "colab": {
          "base_uri": "https://localhost:8080/"
        },
        "outputId": "99e2a410-c7fa-4a29-822e-e1e090dbbe8d"
      },
      "execution_count": null,
      "outputs": [
        {
          "output_type": "stream",
          "name": "stdout",
          "text": [
            "2.6821239805088757\n",
            "84.90911890406238\n"
          ]
        }
      ]
    },
    {
      "cell_type": "code",
      "source": [
        "trimming_moment=(lcg-lcb)*W\n",
        "trim=trimming_moment/(mctc*100)  # Initial trim\n",
        "\n",
        "del_t_aft=(lcf/lbp)*trim\n",
        "del_t_fwd=trim-del_t_aft\n",
        "print(trim)"
      ],
      "metadata": {
        "id": "NYaQUs1u-Msy",
        "colab": {
          "base_uri": "https://localhost:8080/"
        },
        "outputId": "482cccc0-ce33-4fab-e57e-a6dabeadda46"
      },
      "execution_count": null,
      "outputs": [
        {
          "output_type": "stream",
          "name": "stdout",
          "text": [
            "-4.643789788192875\n"
          ]
        }
      ]
    },
    {
      "cell_type": "code",
      "source": [
        "T_aft=T-del_t_aft\n",
        "T_fwd=T+del_t_fwd"
      ],
      "metadata": {
        "id": "lkDqTIQN_hKn"
      },
      "execution_count": null,
      "outputs": []
    },
    {
      "cell_type": "code",
      "source": [
        "print(T_aft)\n",
        "print(T_fwd)"
      ],
      "metadata": {
        "colab": {
          "base_uri": "https://localhost:8080/"
        },
        "id": "Nndsnder__l6",
        "outputId": "cfe8bdf7-b836-47f8-c978-1487240ef659"
      },
      "execution_count": null,
      "outputs": [
        {
          "output_type": "stream",
          "name": "stdout",
          "text": [
            "5.134239025851783\n",
            "0.4904492376589076\n"
          ]
        }
      ]
    },
    {
      "cell_type": "code",
      "source": [
        "x_values=area_df.columns[1:].astype(float)\n",
        "\n",
        "x0=x_values[0]\n",
        "xl=x_values[-1]"
      ],
      "metadata": {
        "id": "UdQA0QkqIH7r"
      },
      "execution_count": null,
      "outputs": []
    },
    {
      "cell_type": "code",
      "source": [
        "t=[]\n",
        "for i in range(len(x_values)):\n",
        "  t.append(T_aft+((T_fwd-T_aft)/(xl-x0))*(x_values[i]-x0))\n",
        "\n",
        "df=pd.DataFrame({'x':x_values,'t':t})\n",
        "print(df)"
      ],
      "metadata": {
        "colab": {
          "base_uri": "https://localhost:8080/"
        },
        "id": "w_B06S_sJaTu",
        "outputId": "aac7a8ce-78fa-47a9-e793-248c616e6bd5"
      },
      "execution_count": null,
      "outputs": [
        {
          "output_type": "stream",
          "name": "stdout",
          "text": [
            "              x         t\n",
            "0     -3.600907  5.134239\n",
            "1     -3.599993  5.134214\n",
            "2     -3.000146  5.117578\n",
            "3     -1.800149  5.084297\n",
            "4     -1.199998  5.067653\n",
            "..          ...       ...\n",
            "101  163.814150  0.491176\n",
            "102  163.820856  0.490990\n",
            "103  163.827257  0.490813\n",
            "104  163.833962  0.490627\n",
            "105  163.840363  0.490449\n",
            "\n",
            "[106 rows x 2 columns]\n"
          ]
        }
      ]
    },
    {
      "cell_type": "code",
      "source": [
        "result = get_sectional_area(area_df, df)\n",
        "print(result)\n",
        "result.to_excel('sectional areas.xlsx')"
      ],
      "metadata": {
        "colab": {
          "base_uri": "https://localhost:8080/"
        },
        "id": "Z-s1jnUuUOgX",
        "outputId": "9604685f-6f26-4562-d40d-fb7adf98f842",
        "collapsed": true
      },
      "execution_count": null,
      "outputs": [
        {
          "output_type": "stream",
          "name": "stdout",
          "text": [
            "              x         z  area\n",
            "0     -3.600907  5.134239   0.0\n",
            "1     -3.599993  5.134214   0.0\n",
            "2     -3.000146  5.117578   0.0\n",
            "3     -1.800149  5.084297   0.0\n",
            "4     -1.199998  5.067653   0.0\n",
            "..          ...       ...   ...\n",
            "101  163.814150  0.491176   0.0\n",
            "102  163.820856  0.490990   0.0\n",
            "103  163.827257  0.490813   0.0\n",
            "104  163.833962  0.490627   0.0\n",
            "105  163.840363  0.490449   0.0\n",
            "\n",
            "[106 rows x 3 columns]\n"
          ]
        }
      ]
    },
    {
      "cell_type": "code",
      "source": [
        "underwater_volume=np.trapz(result['area'],result['x'])\n",
        "print(underwater_volume)"
      ],
      "metadata": {
        "colab": {
          "base_uri": "https://localhost:8080/"
        },
        "id": "JuM2Hw6oUt0g",
        "outputId": "66562d60-27ab-4b19-ba72-17aba2301958"
      },
      "execution_count": null,
      "outputs": [
        {
          "output_type": "stream",
          "name": "stdout",
          "text": [
            "8260.755875611565\n"
          ]
        }
      ]
    },
    {
      "cell_type": "code",
      "source": [
        "buoyancy=1.025*underwater_volume\n",
        "print(buoyancy)"
      ],
      "metadata": {
        "colab": {
          "base_uri": "https://localhost:8080/"
        },
        "id": "g5p7LGSkVCso",
        "outputId": "a3626570-ffb4-465c-f012-19f25fc0190f"
      },
      "execution_count": null,
      "outputs": [
        {
          "output_type": "stream",
          "name": "stdout",
          "text": [
            "8467.274772501853\n"
          ]
        }
      ]
    },
    {
      "cell_type": "code",
      "source": [
        "lcb=np.trapz(result['area']*result['x'],result['x'])/underwater_volume\n",
        "print(lcb)"
      ],
      "metadata": {
        "colab": {
          "base_uri": "https://localhost:8080/"
        },
        "id": "amNoy_Y4VIhn",
        "outputId": "8cf62651-bbc6-41b7-f097-ef9546c4c34b"
      },
      "execution_count": null,
      "outputs": [
        {
          "output_type": "stream",
          "name": "stdout",
          "text": [
            "69.19638291814351\n"
          ]
        }
      ]
    },
    {
      "cell_type": "code",
      "source": [
        "i=1\n",
        "trim=-4.643789788192875\n",
        "W=8329.839706\n",
        "lcg=68.82575974\n",
        "lcb=69.19638291814351\n",
        "lbp=160.8\n",
        "T=2.6821239805088757\n",
        "lcf=84.90911890406238\n",
        "\n",
        "while(abs(lcg-lcb)/lcg>0.005):\n",
        "  if(lcb>lcg):\n",
        "    trim-=0.01\n",
        "  else:\n",
        "    trim+=0.01\n",
        "  T_aft, T_fwd, T_mean=get_drafts(trim, lcf, lbp, T)\n",
        "  lcf=get_lcf(T_mean, hydrostatics_df)\n",
        "  buoyancy, lcb, res=get_buoyancy(area_df, T_aft, T_fwd)\n",
        "  print('Iteration', i,':')\n",
        "  print('T_mean=', T_mean)\n",
        "  print('T_aft=', T_aft)\n",
        "  print('T_fwd=', T_fwd)\n",
        "  print('Trim=', trim)\n",
        "  print('Weight=', W)\n",
        "  print('Buoyancy=', buoyancy)\n",
        "  print('LCG=', lcg)\n",
        "  print('LCB=', lcb)\n",
        "  print('\\n\\n')\n",
        "  i+=1\n",
        "  T=T_mean"
      ],
      "metadata": {
        "collapsed": true,
        "id": "TUkDhsGZnjr3",
        "colab": {
          "base_uri": "https://localhost:8080/"
        },
        "outputId": "999baeb1-5438-4420-ac53-c4b02cb6481c"
      },
      "execution_count": null,
      "outputs": [
        {
          "output_type": "stream",
          "name": "stdout",
          "text": [
            "Iteration 1 :\n",
            "T_mean= 2.8126245495976376\n",
            "T_aft= 5.139519443694075\n",
            "T_fwd= 0.48572965550120006\n",
            "Trim= -4.653789788192875\n",
            "Weight= 8329.839706\n",
            "Buoyancy= 8467.95623103759\n",
            "LCG= 68.82575974\n",
            "LCB= 69.16404758195696\n",
            "\n",
            "\n",
            "\n"
          ]
        }
      ]
    },
    {
      "cell_type": "code",
      "source": [
        "trim=-4.583789788192877\n",
        "W=8329.839706\n",
        "B=8467.95623103759\n",
        "lcg=68.82575974\n",
        "lcb=69.16404758195696\n",
        "T_mean=2.8126245495976376\n",
        "T_aft=5.139519443694075\n",
        "T_fwd=0.48572965550120006\n",
        "i=1\n",
        "\n",
        "while((abs(W-buoyancy)/W)>0.001):\n",
        "#while(i<15):\n",
        "  if(W<B):\n",
        "    T_mean-=0.01\n",
        "    T_aft-=0.01\n",
        "    T_fwd-=0.01\n",
        "  else:\n",
        "    T_mean+=0.01\n",
        "    T_aft+=0.01\n",
        "    T_fwd+=0.01\n",
        "\n",
        "  buoyancy, lcb, res=get_buoyancy(area_df, T_aft, T_fwd)\n",
        "  print('Iteration', i,':')\n",
        "  print('T_mean=', T_mean)\n",
        "  print('T_aft=', T_aft)\n",
        "  print('T_fwd=', T_fwd)\n",
        "  print('Weight=', W)\n",
        "  print('Buoyancy=', buoyancy)\n",
        "  print('LCG=', lcg)\n",
        "  print('LCB=', lcb)\n",
        "  print('\\n\\n')\n",
        "  i+=1\n",
        "\n"
      ],
      "metadata": {
        "colab": {
          "base_uri": "https://localhost:8080/"
        },
        "id": "B_jta4vipzQR",
        "outputId": "7e196490-6b7c-4bbd-9373-0c23e147c0c4"
      },
      "execution_count": null,
      "outputs": [
        {
          "output_type": "stream",
          "name": "stdout",
          "text": [
            "Iteration 1 :\n",
            "T_mean= 2.802624549597638\n",
            "T_aft= 5.129519443694075\n",
            "T_fwd= 0.47572965550120005\n",
            "Weight= 8329.839706\n",
            "Buoyancy= 8434.18957060871\n",
            "LCG= 68.82575974\n",
            "LCB= 69.1149370601041\n",
            "\n",
            "\n",
            "\n",
            "Iteration 2 :\n",
            "T_mean= 2.792624549597638\n",
            "T_aft= 5.119519443694076\n",
            "T_fwd= 0.46572965550120005\n",
            "Weight= 8329.839706\n",
            "Buoyancy= 8400.438735131303\n",
            "LCG= 68.82575974\n",
            "LCB= 69.06555554569076\n",
            "\n",
            "\n",
            "\n",
            "Iteration 3 :\n",
            "T_mean= 2.7826245495976383\n",
            "T_aft= 5.109519443694076\n",
            "T_fwd= 0.45572965550120004\n",
            "Weight= 8329.839706\n",
            "Buoyancy= 8366.696243842704\n",
            "LCG= 68.82575974\n",
            "LCB= 69.01583887477027\n",
            "\n",
            "\n",
            "\n",
            "Iteration 4 :\n",
            "T_mean= 2.7726245495976385\n",
            "T_aft= 5.099519443694076\n",
            "T_fwd= 0.44572965550120003\n",
            "Weight= 8329.839706\n",
            "Buoyancy= 8332.960269690348\n",
            "LCG= 68.82575974\n",
            "LCB= 68.96571093882329\n",
            "\n",
            "\n",
            "\n"
          ]
        }
      ]
    },
    {
      "cell_type": "code",
      "source": [
        "#Final\n",
        "T_mean= 2.7726245495976385\n",
        "T_aft= 5.099519443694076\n",
        "T_fwd= 0.44572965550120003\n",
        "Weight= 8329.839706\n",
        "Buoyancy= 8332.960269690348\n",
        "LCG= 68.82575974\n",
        "LCB= 68.96571093882329"
      ],
      "metadata": {
        "id": "1B2omuygHZoP"
      },
      "execution_count": null,
      "outputs": []
    },
    {
      "cell_type": "code",
      "source": [
        "trim=T_fwd-T_aft\n",
        "print(trim)"
      ],
      "metadata": {
        "colab": {
          "base_uri": "https://localhost:8080/"
        },
        "id": "vAQjsF-gEdQv",
        "outputId": "fdd16251-5e4b-48c4-b402-5fb44926e2d6"
      },
      "execution_count": null,
      "outputs": [
        {
          "output_type": "stream",
          "name": "stdout",
          "text": [
            "-4.653789788192876\n"
          ]
        }
      ]
    },
    {
      "cell_type": "code",
      "source": [
        "print(res)"
      ],
      "metadata": {
        "colab": {
          "base_uri": "https://localhost:8080/"
        },
        "id": "-cdqYcmwISEt",
        "outputId": "cbc5326f-2efe-44c3-9da2-bec2ded1eb9b"
      },
      "execution_count": null,
      "outputs": [
        {
          "output_type": "stream",
          "name": "stdout",
          "text": [
            "              x         z  area\n",
            "0     -3.600907  5.099519   0.0\n",
            "1     -3.599993  5.099494   0.0\n",
            "2     -3.000146  5.082822   0.0\n",
            "3     -1.800149  5.049470   0.0\n",
            "4     -1.199998  5.032790   0.0\n",
            "..          ...       ...   ...\n",
            "101  163.814150  0.446458   0.0\n",
            "102  163.820856  0.446272   0.0\n",
            "103  163.827257  0.446094   0.0\n",
            "104  163.833962  0.445908   0.0\n",
            "105  163.840363  0.445730   0.0\n",
            "\n",
            "[106 rows x 3 columns]\n"
          ]
        }
      ]
    },
    {
      "cell_type": "code",
      "source": [
        "res.to_excel('buoyancy_curve.xlsx')"
      ],
      "metadata": {
        "id": "hQ9EJW_XIfmx"
      },
      "execution_count": null,
      "outputs": []
    },
    {
      "cell_type": "code",
      "source": [
        "weight_data=pd.read_excel('/content/21NA3AI41_Kritika_Load curve.xlsx')\n",
        "x_values=weight_data['x']\n",
        "weight=weight_data['W']\n",
        "x_values_1=res['x']"
      ],
      "metadata": {
        "id": "RhDuK2E7JZ4b"
      },
      "execution_count": null,
      "outputs": []
    },
    {
      "cell_type": "code",
      "source": [
        "areas=np.zeros(len(x_values))\n",
        "for i in range(len(x_values)):\n",
        "  areas[i]=np.interp(x_values[i], x_values_1, res['area'])\n",
        "\n",
        "buoyancy=-1.025*areas"
      ],
      "metadata": {
        "id": "BucqSHvTMHey"
      },
      "execution_count": null,
      "outputs": []
    },
    {
      "cell_type": "code",
      "source": [
        "plt.figure(figsize=(10, 5))\n",
        "plt.plot(x_values, weight, label='Weight Distribution', color='b')\n",
        "plt.plot(x_values, buoyancy, label='Buoyancy Distribution', color='r')\n",
        "plt.axhline(y=0, color='k')\n",
        "plt.xlabel('x (Position along ship)')\n",
        "plt.ylabel('W/B per unit length')\n",
        "plt.title('Weight and Buoyancy curve')\n",
        "plt.legend()\n",
        "plt.grid()\n",
        "plt.show()"
      ],
      "metadata": {
        "colab": {
          "base_uri": "https://localhost:8080/",
          "height": 487
        },
        "id": "wtqAR98pJNZY",
        "outputId": "ba78d7bf-aa4f-4f06-9d89-f3b8ec818bae"
      },
      "execution_count": null,
      "outputs": [
        {
          "output_type": "display_data",
          "data": {
            "text/plain": [
              "<Figure size 1000x500 with 1 Axes>"
            ],
            "image/png": "[encoded data removed]"
          },
          "metadata": {}
        }
      ]
    },
    {
      "cell_type": "code",
      "source": [
        "residual=np.trapz(weight+buoyancy,x_values)\n",
        "print(residual)"
      ],
      "metadata": {
        "colab": {
          "base_uri": "https://localhost:8080/"
        },
        "id": "jH8tCJ1ANJGY",
        "outputId": "bf93fd29-e440-44e4-fdce-5b055beb6d1a"
      },
      "execution_count": null,
      "outputs": [
        {
          "output_type": "stream",
          "name": "stdout",
          "text": [
            "0.3831143183757604\n"
          ]
        }
      ]
    },
    {
      "cell_type": "code",
      "source": [
        "shear_force=np.zeros(len(x_values))\n",
        "bending_moment=np.zeros(len(x_values))\n",
        "net_w=weight+buoyancy\n",
        "for i in range(len(x_values)):\n",
        "  shear_force[i]=np.trapz(net_w[0:i],x_values[0:i])\n",
        "\n",
        "for i in range(len(x_values)):\n",
        "  bending_moment[i]=np.trapz(shear_force[0:i],x_values[0:i])"
      ],
      "metadata": {
        "id": "ZRpfJ2yZOPJq"
      },
      "execution_count": null,
      "outputs": []
    },
    {
      "cell_type": "code",
      "source": [
        "plt.figure(figsize=(8, 5))\n",
        "plt.plot(x_values, shear_force, label='Shear Force', color='b')\n",
        "plt.title('Shear Force Diagram')\n",
        "plt.xlabel('x (Position along ship)')\n",
        "plt.ylabel('Shear Force')\n",
        "plt.axhline(y=0, color='k')"
      ],
      "metadata": {
        "colab": {
          "base_uri": "https://localhost:8080/",
          "height": 504
        },
        "id": "9xmapxSuPgya",
        "outputId": "23474331-0051-46a2-8d80-9ce378bc5d46"
      },
      "execution_count": null,
      "outputs": [
        {
          "output_type": "execute_result",
          "data": {
            "text/plain": [
              "<matplotlib.lines.Line2D at 0x7bdd391833d0>"
            ]
          },
          "metadata": {},
          "execution_count": 157
        },
        {
          "output_type": "display_data",
          "data": {
            "text/plain": [
              "<Figure size 800x500 with 1 Axes>"
            ],
            "image/png": "[encoded data removed]"
          },
          "metadata": {}
        }
      ]
    },
    {
      "cell_type": "code",
      "source": [
        "plt.figure(figsize=(8, 5))\n",
        "plt.plot(x_values, bending_moment, label='Bending Moment', color='r')\n",
        "plt.title('Bending Moment Diagram')\n",
        "plt.xlabel('x (Position along ship)')\n",
        "plt.ylabel('Bending Moment')"
      ],
      "metadata": {
        "colab": {
          "base_uri": "https://localhost:8080/",
          "height": 504
        },
        "id": "g-Iuk4YTPlLS",
        "outputId": "4dc94434-26c0-41b0-a50f-af5d1faf0561"
      },
      "execution_count": null,
      "outputs": [
        {
          "output_type": "execute_result",
          "data": {
            "text/plain": [
              "Text(0, 0.5, 'Bending Moment')"
            ]
          },
          "metadata": {},
          "execution_count": 158
        },
        {
          "output_type": "display_data",
          "data": {
            "text/plain": [
              "<Figure size 800x500 with 1 Axes>"
            ],
            "image/png": "[encoded data removed]"
          },
          "metadata": {}
        }
      ]
    },
    {
      "cell_type": "code",
      "source": [
        "SF_BM=pd.DataFrame({'x':x_values,'Shear Force':shear_force,'Bending Moment':bending_moment})\n",
        "SF_BM.to_excel('SF_BM.xlsx')\n",
        "print(SF_BM)"
      ],
      "metadata": {
        "colab": {
          "base_uri": "https://localhost:8080/"
        },
        "id": "JlCOd_BcQ9tP",
        "outputId": "62fb3291-0912-46bd-eb53-5022c3a4ca5b"
      },
      "execution_count": null,
      "outputs": [
        {
          "output_type": "stream",
          "name": "stdout",
          "text": [
            "       x  Shear Force  Bending Moment\n",
            "0     -4     0.000000        0.000000\n",
            "1     -3     0.000000        0.000000\n",
            "2     -2    17.399859        0.000000\n",
            "3     -1    52.279183        8.699929\n",
            "4      0    93.088554       43.539450\n",
            "..   ...          ...             ...\n",
            "165  161  -107.617157     1715.017051\n",
            "166  162   -76.013399     1590.894680\n",
            "167  163   -45.817869     1499.079402\n",
            "168  164   -17.030569     1438.163768\n",
            "169  165    -1.302931     1406.739549\n",
            "\n",
            "[170 rows x 3 columns]\n"
          ]
        }
      ]
    }
  ]
}