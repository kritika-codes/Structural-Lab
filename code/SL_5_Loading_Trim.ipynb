{
  "nbformat": 4,
  "nbformat_minor": 0,
  "metadata": {
    "colab": {
      "provenance": []
    },
    "kernelspec": {
      "name": "python3",
      "display_name": "Python 3"
    },
    "language_info": {
      "name": "python"
    }
  },
  "cells": [
    {
      "cell_type": "code",
      "execution_count": null,
      "metadata": {
        "id": "NjJ4d8X--8mL"
      },
      "outputs": [],
      "source": [
        "import numpy as np\n",
        "import pandas as pd\n",
        "import matplotlib.pyplot as plt"
      ]
    },
    {
      "cell_type": "code",
      "source": [
        "def read_ship_loading_dat(filepath):\n",
        "    tanks = []\n",
        "    percentages = []\n",
        "\n",
        "    with open(filepath, 'r') as file:\n",
        "        lines = file.readlines()\n",
        "\n",
        "    i = 0\n",
        "    while i < len(lines):\n",
        "        tank_name = lines[i].strip()\n",
        "        if tank_name == '$':  # End of file indicator\n",
        "            break\n",
        "        percentage = lines[i+1].strip()\n",
        "        tanks.append(tank_name)\n",
        "        percentages.append(float(percentage))  # convert to float if needed\n",
        "        i += 2  # Move to the next tank block\n",
        "\n",
        "    df = pd.DataFrame({\n",
        "        'Tank Name': tanks,\n",
        "        'Percentage Loading': percentages\n",
        "    })\n",
        "\n",
        "    return df"
      ],
      "metadata": {
        "id": "NYAZswt5AP6M"
      },
      "execution_count": null,
      "outputs": []
    },
    {
      "cell_type": "code",
      "source": [
        "filename='/content/Loading_basic.dat'\n",
        "load=read_ship_loading_dat(filename)\n",
        "print(load.head())"
      ],
      "metadata": {
        "id": "8W6beOCkDS3m",
        "colab": {
          "base_uri": "https://localhost:8080/"
        },
        "collapsed": true,
        "outputId": "1076688f-58e7-4590-e257-faf58b916ed7"
      },
      "execution_count": null,
      "outputs": [
        {
          "output_type": "stream",
          "name": "stdout",
          "text": [
            "    Tank Name  Percentage Loading\n",
            "0  NO1CARGO.P                97.9\n",
            "1  NO1CARGO.S                98.0\n",
            "2  NO3CARGO.P                98.4\n",
            "3  NO3CARGO.S                98.3\n",
            "4  NO5CARGO.P                98.2\n"
          ]
        }
      ]
    },
    {
      "cell_type": "code",
      "source": [
        "def get_tank_properties(tank_name, folder_path):\n",
        "    file_path = f\"{folder_path}/{tank_name}.txt\"\n",
        "    with open(file_path, 'r') as f:\n",
        "        lines = f.readlines()\n",
        "\n",
        "    density = float(lines[0].strip())\n",
        "    permeability = float(lines[1].strip())\n",
        "\n",
        "    # The data lines start from line 4 (index 3)\n",
        "    data_lines = lines[3:]\n",
        "    last_line = data_lines[-1].strip().split(',')\n",
        "    max_volume = float(last_line[1])  # second column is volume\n",
        "\n",
        "    return density, permeability, max_volume\n",
        "\n",
        "def addto_dataframe(df, txt_folder):\n",
        "    densities = []\n",
        "    permeabilities = []\n",
        "    max_volumes = []\n",
        "\n",
        "    for tank in df['Tank Name']:\n",
        "        density, permeability, max_volume = get_tank_properties(tank, txt_folder)\n",
        "        densities.append(density)\n",
        "        permeabilities.append(permeability)\n",
        "        max_volumes.append(max_volume)\n",
        "\n",
        "    df['Density'] = densities\n",
        "    df['Permeability'] = permeabilities\n",
        "    df['Max Volume'] = max_volumes\n",
        "    df['Volume Filled'] = (df['Percentage Loading'] / 100) * df['Max Volume']\n",
        "    df['Weight Filled'] = df['Volume Filled'] * df['Density']\n",
        "\n",
        "    return df"
      ],
      "metadata": {
        "id": "76VyLyIeWYY0"
      },
      "execution_count": null,
      "outputs": []
    },
    {
      "cell_type": "code",
      "source": [
        "txt_folder='/content/drive/MyDrive/Structural Lab/TankSoundings'\n",
        "load=addto_dataframe(load,txt_folder)\n",
        "print(load.head())"
      ],
      "metadata": {
        "colab": {
          "base_uri": "https://localhost:8080/"
        },
        "collapsed": true,
        "id": "YbAvAgvEcmm5",
        "outputId": "54e4289b-da4a-4957-eb5a-41fd19d81b39"
      },
      "execution_count": null,
      "outputs": [
        {
          "output_type": "stream",
          "name": "stdout",
          "text": [
            "    Tank Name  Percentage Loading  Density  Permeability   Max Volume  \\\n",
            "0  NO1CARGO.P                97.9    1.025         0.985  2136.981460   \n",
            "1  NO1CARGO.S                98.0    1.025         0.985  2136.981460   \n",
            "2  NO3CARGO.P                98.4    1.025         0.985  2592.270366   \n",
            "3  NO3CARGO.S                98.3    1.025         0.985  2603.932683   \n",
            "4  NO5CARGO.P                98.2    1.025         0.985  1401.283106   \n",
            "\n",
            "   Volume Filled  Weight Filled  \n",
            "0    2092.104849    2144.407470  \n",
            "1    2094.241830    2146.597876  \n",
            "2    2550.794040    2614.563891  \n",
            "3    2559.665827    2623.657473  \n",
            "4    1376.060010    1410.461510  \n"
          ]
        }
      ]
    },
    {
      "cell_type": "code",
      "source": [
        "def interpolate_LCG(tank_name, volume_filled, folder_path):\n",
        "    file_path = f\"{folder_path}/{tank_name}.txt\"\n",
        "    with open(file_path, 'r') as f:\n",
        "        lines = f.readlines()\n",
        "\n",
        "    # The data starts from line 4 (index 3)\n",
        "    data_lines = lines[3:]\n",
        "\n",
        "    # Extract volume (2nd column) and LCG (4th column)\n",
        "    volumes = []\n",
        "    lcgs = []\n",
        "\n",
        "    for line in data_lines:\n",
        "        values = line.strip().split(',')\n",
        "        volumes.append(float(values[1]))  # Volume column\n",
        "        lcgs.append(float(values[3]))  # LCG column\n",
        "\n",
        "    # Use numpy interpolation to estimate LCG for the given volume_filled\n",
        "    interpolated_LCG = np.interp(volume_filled, volumes, lcgs)\n",
        "\n",
        "    return interpolated_LCG\n",
        "\n",
        "def add_LCG_to_dataframe(df, txt_folder):\n",
        "    lcgs = []\n",
        "\n",
        "    for index, row in df.iterrows():\n",
        "        lcg = interpolate_LCG(row['Tank Name'], row['Volume Filled'], txt_folder)\n",
        "        lcgs.append(lcg)\n",
        "\n",
        "    df['Interpolated LCG'] = lcgs\n",
        "    return df"
      ],
      "metadata": {
        "id": "cwjdrVWigvbz"
      },
      "execution_count": null,
      "outputs": []
    },
    {
      "cell_type": "code",
      "source": [
        "load=add_LCG_to_dataframe(load,txt_folder)\n",
        "load.to_excel('tanks.xlsx')\n",
        "print(load.head())"
      ],
      "metadata": {
        "colab": {
          "base_uri": "https://localhost:8080/"
        },
        "id": "BljqyXcJgxKZ",
        "outputId": "50a3bb5c-f351-4c9a-edd2-f4fadeafd53e"
      },
      "execution_count": null,
      "outputs": [
        {
          "output_type": "stream",
          "name": "stdout",
          "text": [
            "    Tank Name  Percentage Loading  Density  Permeability   Max Volume  \\\n",
            "0  NO1CARGO.P                97.9    1.025         0.985  2136.981460   \n",
            "1  NO1CARGO.S                98.0    1.025         0.985  2136.981460   \n",
            "2  NO3CARGO.P                98.4    1.025         0.985  2592.270366   \n",
            "3  NO3CARGO.S                98.3    1.025         0.985  2603.932683   \n",
            "4  NO5CARGO.P                98.2    1.025         0.985  1401.283106   \n",
            "\n",
            "   Volume Filled  Weight Filled  Interpolated LCG  \n",
            "0    2092.104849    2144.407470        137.338535  \n",
            "1    2094.241830    2146.597876        137.338236  \n",
            "2    2550.794040    2614.563891        104.741269  \n",
            "3    2559.665827    2623.657473        104.721092  \n",
            "4    1376.060010    1410.461510         73.197522  \n"
          ]
        }
      ]
    },
    {
      "cell_type": "code",
      "source": [
        "df=pd.DataFrame(\n",
        "    {\n",
        "       'Component':['Lightship', 'Crew and effects', 'Store'],\n",
        "       'Weight':[8070, 46, 4.2],\n",
        "       'LCG':[68.49, 18, 155]\n",
        "    }\n",
        ")"
      ],
      "metadata": {
        "id": "kGR_3IaFg9LK"
      },
      "execution_count": null,
      "outputs": []
    },
    {
      "cell_type": "code",
      "source": [
        "total_weight=df['Weight'].sum()+load['Weight Filled'].sum()\n",
        "total_LCG=(df['LCG']*df['Weight']).sum()+(load['Interpolated LCG']*load['Weight Filled']).sum()\n",
        "total_LCG/=total_weight\n",
        "print(total_weight)\n",
        "print(total_LCG)"
      ],
      "metadata": {
        "colab": {
          "base_uri": "https://localhost:8080/"
        },
        "id": "11Yj5FPNh2ej",
        "outputId": "8f461f3c-a190-4547-fe9e-4cf62032900f"
      },
      "execution_count": null,
      "outputs": [
        {
          "output_type": "stream",
          "name": "stdout",
          "text": [
            "28263.81653510674\n",
            "81.3080508270182\n"
          ]
        }
      ]
    },
    {
      "cell_type": "code",
      "source": [
        "hydrostatics_df=pd.read_excel('/content/hydrostatics.xlsx')\n",
        "area_df=pd.read_excel('/content/Sectional_Area.xlsx')"
      ],
      "metadata": {
        "id": "Q1rvciY-amTy"
      },
      "execution_count": null,
      "outputs": []
    },
    {
      "cell_type": "code",
      "source": [
        "def get_drafts(trim, lcf, lbp, T):\n",
        "  del_t_aft=(lcf/lbp)*trim\n",
        "  del_t_fwd=trim-del_t_aft\n",
        "\n",
        "  T_aft=T-del_t_aft\n",
        "  T_fwd=T+del_t_fwd\n",
        "\n",
        "  T_mean=(T_aft+T_fwd)/2\n",
        "  return T_aft, T_fwd, T_mean\n",
        "\n",
        "\n",
        "\n",
        "def get_lcf(T_mean, hydrostatics_df):\n",
        "  lcf=np.interp(T_mean,hydrostatics_df['z'],hydrostatics_df['LCF'])\n",
        "  return lcf\n",
        "\n",
        "\n",
        "\n",
        "def get_sectional_area(area_df, df):\n",
        "    result = []\n",
        "    z_values = area_df.iloc[:,0].to_numpy()\n",
        "    for _, row in df.iterrows():\n",
        "        x = row['x']\n",
        "        z = row['t']\n",
        "\n",
        "        area_values = area_df[x].to_numpy()     # Sectional Area curve at x\n",
        "        interpolated_area = np.interp(z, z_values, area_values) # Passing z, area arrays to interpolate\n",
        "\n",
        "        result.append({'x': x, 'z': z, 'area': interpolated_area})\n",
        "\n",
        "    return pd.DataFrame(result)\n",
        "\n",
        "\n",
        "\n",
        "def get_buoyancy(area_df, T_aft, T_fwd):\n",
        "\n",
        "  x_values=area_df.columns[1:].astype(float)\n",
        "  x0=x_values[0]\n",
        "  xl=x_values[-1]\n",
        "\n",
        "  t=[]\n",
        "  for i in range(len(x_values)):\n",
        "    t.append(T_aft+((T_fwd-T_aft)/(xl-x0))*(x_values[i]-x0))\n",
        "\n",
        "  df=pd.DataFrame({'x':x_values,'t':t})\n",
        "  result = get_sectional_area(area_df, df)\n",
        "\n",
        "  underwater_volume=np.trapz(result['area'],result['x'])\n",
        "  buoyancy=1.025*underwater_volume\n",
        "  lcb=np.trapz(result['area']*result['x'],result['x'])/underwater_volume\n",
        "\n",
        "  return buoyancy, lcb, result"
      ],
      "metadata": {
        "id": "ylf3AAriaqac"
      },
      "execution_count": null,
      "outputs": []
    },
    {
      "cell_type": "code",
      "source": [
        "W=28263.81653510674\n",
        "lcg=81.3080508270182\n",
        "lbp=160.8"
      ],
      "metadata": {
        "id": "FGd-7f5Haxtn"
      },
      "execution_count": null,
      "outputs": []
    },
    {
      "cell_type": "code",
      "source": [
        "T=np.interp(W,hydrostatics_df['Weight'],hydrostatics_df['z'])\n",
        "lcb=np.interp(T,hydrostatics_df['z'],hydrostatics_df['LCB'])\n",
        "mctc=np.interp(T,hydrostatics_df['z'],hydrostatics_df['MTC'])\n",
        "lcf=np.interp(T,hydrostatics_df['z'],hydrostatics_df['LCF'])\n",
        "\n",
        "print(T)\n",
        "print(lcf)"
      ],
      "metadata": {
        "colab": {
          "base_uri": "https://localhost:8080/"
        },
        "id": "8-wo-8e_a-dU",
        "outputId": "3116f566-08b8-429f-d1f5-c03c13c8cbcb"
      },
      "execution_count": null,
      "outputs": [
        {
          "output_type": "stream",
          "name": "stdout",
          "text": [
            "8.200014656728767\n",
            "78.99792662398329\n"
          ]
        }
      ]
    },
    {
      "cell_type": "code",
      "source": [
        "trimming_moment=(lcg-lcb)*W\n",
        "trim=trimming_moment/(mctc*100)  # Initial trim\n",
        "\n",
        "del_t_aft=(lcf/lbp)*trim\n",
        "del_t_fwd=trim-del_t_aft\n",
        "print(trim)"
      ],
      "metadata": {
        "colab": {
          "base_uri": "https://localhost:8080/"
        },
        "id": "4nsfa0q3a_8j",
        "outputId": "5f54d35a-6932-4ea8-a61d-2d3ad3e04ad6"
      },
      "execution_count": null,
      "outputs": [
        {
          "output_type": "stream",
          "name": "stdout",
          "text": [
            "-1.4529949102064317\n"
          ]
        }
      ]
    },
    {
      "cell_type": "code",
      "source": [
        "T_aft=T-del_t_aft\n",
        "T_fwd=T+del_t_fwd\n",
        "\n",
        "print(T_aft)\n",
        "print(T_fwd)"
      ],
      "metadata": {
        "colab": {
          "base_uri": "https://localhost:8080/"
        },
        "id": "gyAoWs74bDIB",
        "outputId": "04591a8c-3d86-48ce-ab8a-13a691262a5f"
      },
      "execution_count": null,
      "outputs": [
        {
          "output_type": "stream",
          "name": "stdout",
          "text": [
            "8.913842923529195\n",
            "7.460848013322764\n"
          ]
        }
      ]
    },
    {
      "cell_type": "code",
      "source": [
        "x_values=area_df.columns[1:].astype(float)\n",
        "\n",
        "x0=x_values[0]\n",
        "xl=x_values[-1]\n",
        "\n",
        "t=[]\n",
        "for i in range(len(x_values)):\n",
        "  t.append(T_aft+((T_fwd-T_aft)/(xl-x0))*(x_values[i]-x0))\n",
        "\n",
        "df=pd.DataFrame({'x':x_values,'t':t})\n",
        "print(df)"
      ],
      "metadata": {
        "colab": {
          "base_uri": "https://localhost:8080/"
        },
        "id": "56KftBe7bFmJ",
        "outputId": "f11985d5-55d6-47b9-816c-93b263967d1b"
      },
      "execution_count": null,
      "outputs": [
        {
          "output_type": "stream",
          "name": "stdout",
          "text": [
            "              x         t\n",
            "0     -3.600907  8.913843\n",
            "1     -3.599993  8.913835\n",
            "2     -3.000146  8.908630\n",
            "3     -1.800149  8.898217\n",
            "4     -1.199998  8.893009\n",
            "..          ...       ...\n",
            "101  163.814150  7.461075\n",
            "102  163.820856  7.461017\n",
            "103  163.827257  7.460962\n",
            "104  163.833962  7.460904\n",
            "105  163.840363  7.460848\n",
            "\n",
            "[106 rows x 2 columns]\n"
          ]
        }
      ]
    },
    {
      "cell_type": "code",
      "source": [
        "result = get_sectional_area(area_df, df)\n",
        "print(result)"
      ],
      "metadata": {
        "colab": {
          "base_uri": "https://localhost:8080/"
        },
        "id": "GZDRkj9ObQcD",
        "outputId": "558d7983-c5b3-45d2-b746-350125a1cc69"
      },
      "execution_count": null,
      "outputs": [
        {
          "output_type": "stream",
          "name": "stdout",
          "text": [
            "              x         z      area\n",
            "0     -3.600907  8.913843  0.000000\n",
            "1     -3.599993  8.913835  0.000000\n",
            "2     -3.000146  8.908630  0.082955\n",
            "3     -1.800149  8.898217  0.923721\n",
            "4     -1.199998  8.893009  1.812167\n",
            "..          ...       ...       ...\n",
            "101  163.814150  7.461075  0.000000\n",
            "102  163.820856  7.461017  0.000000\n",
            "103  163.827257  7.460962  0.000000\n",
            "104  163.833962  7.460904  0.000000\n",
            "105  163.840363  7.460848  0.000000\n",
            "\n",
            "[106 rows x 3 columns]\n"
          ]
        }
      ]
    },
    {
      "cell_type": "code",
      "source": [
        "underwater_volume=np.trapz(result['area'],result['x'])\n",
        "print(underwater_volume)"
      ],
      "metadata": {
        "colab": {
          "base_uri": "https://localhost:8080/"
        },
        "id": "qcNq83vUbShr",
        "outputId": "e54106dc-5767-4dcb-87ff-2cd4ed9c8f3e"
      },
      "execution_count": null,
      "outputs": [
        {
          "output_type": "stream",
          "name": "stdout",
          "text": [
            "27580.50083291595\n"
          ]
        },
        {
          "output_type": "stream",
          "name": "stderr",
          "text": [
            "<ipython-input-18-ce55708c8225>:1: DeprecationWarning: `trapz` is deprecated. Use `trapezoid` instead, or one of the numerical integration functions in `scipy.integrate`.\n",
            "  underwater_volume=np.trapz(result['area'],result['x'])\n"
          ]
        }
      ]
    },
    {
      "cell_type": "code",
      "source": [
        "buoyancy=1.025*underwater_volume\n",
        "print(buoyancy)"
      ],
      "metadata": {
        "colab": {
          "base_uri": "https://localhost:8080/"
        },
        "id": "LjoQEpSebTW7",
        "outputId": "cd8eaf10-a446-4fb0-bd7f-8c0eae670c28"
      },
      "execution_count": null,
      "outputs": [
        {
          "output_type": "stream",
          "name": "stdout",
          "text": [
            "28270.013353738846\n"
          ]
        }
      ]
    },
    {
      "cell_type": "code",
      "source": [
        "lcb=np.trapz(result['area']*result['x'],result['x'])/underwater_volume\n",
        "print(lcb)"
      ],
      "metadata": {
        "colab": {
          "base_uri": "https://localhost:8080/"
        },
        "id": "w-oZRESVbW_V",
        "outputId": "f0399f6f-9582-42fe-f772-329a657e0fa0"
      },
      "execution_count": null,
      "outputs": [
        {
          "output_type": "stream",
          "name": "stdout",
          "text": [
            "81.2632925659618\n"
          ]
        },
        {
          "output_type": "stream",
          "name": "stderr",
          "text": [
            "<ipython-input-20-32d078c9d2d5>:1: DeprecationWarning: `trapz` is deprecated. Use `trapezoid` instead, or one of the numerical integration functions in `scipy.integrate`.\n",
            "  lcb=np.trapz(result['area']*result['x'],result['x'])/underwater_volume\n"
          ]
        }
      ]
    },
    {
      "cell_type": "code",
      "source": [
        "i=1\n",
        "trim=-1.4529949102064317\n",
        "W=28263.81653510674\n",
        "lcg=81.3080508270182\n",
        "lcb=81.2632925659618\n",
        "lbp=160.8\n",
        "T=8.200014656728767\n",
        "lcf=78.99792662398329\n",
        "\n",
        "while(abs(lcg-lcb)/lcg>0.0001):\n",
        "  if(lcb>lcg):\n",
        "    trim-=0.01\n",
        "  else:\n",
        "    trim+=0.01\n",
        "  T_aft, T_fwd, T_mean=get_drafts(trim, lcf, lbp, T)\n",
        "  lcf=get_lcf(T_mean, hydrostatics_df)\n",
        "  buoyancy, lcb, res=get_buoyancy(area_df, T_aft, T_fwd)\n",
        "  print('Iteration', i,':')\n",
        "  print('T_mean=', T_mean)\n",
        "  print('T_aft=', T_aft)\n",
        "  print('T_fwd=', T_fwd)\n",
        "  print('Trim=', trim)\n",
        "  print('Weight=', W)\n",
        "  print('Buoyancy=', buoyancy)\n",
        "  print('LCG=', lcg)\n",
        "  print('LCB=', lcb)\n",
        "  print('\\n\\n')\n",
        "  i+=1\n",
        "  T=T_mean"
      ],
      "metadata": {
        "colab": {
          "base_uri": "https://localhost:8080/"
        },
        "collapsed": true,
        "id": "46YvquAGbb2T",
        "outputId": "9ae4fc88-2a75-47c7-acbb-18358e6fea41"
      },
      "execution_count": null,
      "outputs": [
        {
          "output_type": "stream",
          "name": "stdout",
          "text": [
            "Iteration 1 :\n",
            "T_mean= 8.187432662043891\n",
            "T_aft= 8.908930117147106\n",
            "T_fwd= 7.465935206940675\n",
            "Trim= -1.4429949102064317\n",
            "Weight= 28263.81653510674\n",
            "Buoyancy= 28269.841555269155\n",
            "LCG= 81.3080508270182\n",
            "LCB= 81.27841129751329\n",
            "\n",
            "\n",
            "\n",
            "Iteration 2 :\n",
            "T_mean= 8.175127073478286\n",
            "T_aft= 8.891624528581502\n",
            "T_fwd= 7.45862961837507\n",
            "Trim= -1.4329949102064317\n",
            "Weight= 28263.81653510674\n",
            "Buoyancy= 28221.278499218446\n",
            "LCG= 81.3080508270182\n",
            "LCB= 81.2992088261028\n",
            "\n",
            "\n",
            "\n",
            "Iteration 3 :\n",
            "T_mean= 8.163091134307166\n",
            "T_aft= 8.874588589410381\n",
            "T_fwd= 7.45159367920395\n",
            "Trim= -1.4229949102064317\n",
            "Weight= 28263.81653510674\n",
            "Buoyancy= 28173.78902907063\n",
            "LCG= 81.3080508270182\n",
            "LCB= 81.31989633809305\n",
            "\n",
            "\n",
            "\n",
            "Iteration 4 :\n",
            "T_mean= 8.151151625699038\n",
            "T_aft= 8.867649080802254\n",
            "T_fwd= 7.434654170595822\n",
            "Trim= -1.4329949102064317\n",
            "Weight= 28263.81653510674\n",
            "Buoyancy= 28127.6750838058\n",
            "LCG= 81.3080508270182\n",
            "LCB= 81.3102088745479\n",
            "\n",
            "\n",
            "\n"
          ]
        },
        {
          "output_type": "stream",
          "name": "stderr",
          "text": [
            "<ipython-input-11-2cfb0c20e87e>:48: DeprecationWarning: `trapz` is deprecated. Use `trapezoid` instead, or one of the numerical integration functions in `scipy.integrate`.\n",
            "  underwater_volume=np.trapz(result['area'],result['x'])\n",
            "<ipython-input-11-2cfb0c20e87e>:50: DeprecationWarning: `trapz` is deprecated. Use `trapezoid` instead, or one of the numerical integration functions in `scipy.integrate`.\n",
            "  lcb=np.trapz(result['area']*result['x'],result['x'])/underwater_volume\n",
            "<ipython-input-11-2cfb0c20e87e>:48: DeprecationWarning: `trapz` is deprecated. Use `trapezoid` instead, or one of the numerical integration functions in `scipy.integrate`.\n",
            "  underwater_volume=np.trapz(result['area'],result['x'])\n",
            "<ipython-input-11-2cfb0c20e87e>:50: DeprecationWarning: `trapz` is deprecated. Use `trapezoid` instead, or one of the numerical integration functions in `scipy.integrate`.\n",
            "  lcb=np.trapz(result['area']*result['x'],result['x'])/underwater_volume\n",
            "<ipython-input-11-2cfb0c20e87e>:48: DeprecationWarning: `trapz` is deprecated. Use `trapezoid` instead, or one of the numerical integration functions in `scipy.integrate`.\n",
            "  underwater_volume=np.trapz(result['area'],result['x'])\n",
            "<ipython-input-11-2cfb0c20e87e>:50: DeprecationWarning: `trapz` is deprecated. Use `trapezoid` instead, or one of the numerical integration functions in `scipy.integrate`.\n",
            "  lcb=np.trapz(result['area']*result['x'],result['x'])/underwater_volume\n",
            "<ipython-input-11-2cfb0c20e87e>:48: DeprecationWarning: `trapz` is deprecated. Use `trapezoid` instead, or one of the numerical integration functions in `scipy.integrate`.\n",
            "  underwater_volume=np.trapz(result['area'],result['x'])\n",
            "<ipython-input-11-2cfb0c20e87e>:50: DeprecationWarning: `trapz` is deprecated. Use `trapezoid` instead, or one of the numerical integration functions in `scipy.integrate`.\n",
            "  lcb=np.trapz(result['area']*result['x'],result['x'])/underwater_volume\n"
          ]
        }
      ]
    },
    {
      "cell_type": "code",
      "source": [
        "trim=-1.4329949102064317\n",
        "W=28263.81653510674\n",
        "B=28127.6750838058\n",
        "lcg=81.3080508270182\n",
        "lcb=81.3102088745479\n",
        "T_mean=8.151151625699038\n",
        "T_aft=8.867649080802254\n",
        "T_fwd=7.434654170595822\n",
        "i=1\n",
        "\n",
        "while((abs(W-buoyancy)/W)>0.001):\n",
        "#while(i<15):\n",
        "  if(W<B):\n",
        "    T_mean-=0.01\n",
        "    T_aft-=0.01\n",
        "    T_fwd-=0.01\n",
        "  else:\n",
        "    T_mean+=0.01\n",
        "    T_aft+=0.01\n",
        "    T_fwd+=0.01\n",
        "\n",
        "  buoyancy, lcb, res=get_buoyancy(area_df, T_aft, T_fwd)\n",
        "  print('Iteration', i,':')\n",
        "  print('T_mean=', T_mean)\n",
        "  print('T_aft=', T_aft)\n",
        "  print('T_fwd=', T_fwd)\n",
        "  print('Weight=', W)\n",
        "  print('Buoyancy=', buoyancy)\n",
        "  print('LCG=', lcg)\n",
        "  print('LCB=', lcb)\n",
        "  print('\\n\\n')\n",
        "  i+=1\n"
      ],
      "metadata": {
        "colab": {
          "base_uri": "https://localhost:8080/"
        },
        "collapsed": true,
        "id": "Gw57As4nbeSd",
        "outputId": "129dd23b-e490-4e45-bd56-ca86460b5ef2"
      },
      "execution_count": null,
      "outputs": [
        {
          "output_type": "stream",
          "name": "stdout",
          "text": [
            "Iteration 1 :\n",
            "T_mean= 8.161151625699038\n",
            "T_aft= 8.877649080802254\n",
            "T_fwd= 7.444654170595822\n",
            "Weight= 28263.81653510674\n",
            "Buoyancy= 28166.71230502433\n",
            "LCG= 81.3080508270182\n",
            "LCB= 81.30562229392932\n",
            "\n",
            "\n",
            "\n",
            "Iteration 2 :\n",
            "T_mean= 8.171151625699038\n",
            "T_aft= 8.887649080802253\n",
            "T_fwd= 7.454654170595822\n",
            "Weight= 28263.81653510674\n",
            "Buoyancy= 28205.755401750557\n",
            "LCG= 81.3080508270182\n",
            "LCB= 81.3010339251092\n",
            "\n",
            "\n",
            "\n",
            "Iteration 3 :\n",
            "T_mean= 8.181151625699037\n",
            "T_aft= 8.897649080802253\n",
            "T_fwd= 7.464654170595821\n",
            "Weight= 28263.81653510674\n",
            "Buoyancy= 28244.803092679966\n",
            "LCG= 81.3080508270182\n",
            "LCB= 81.29644580167859\n",
            "\n",
            "\n",
            "\n"
          ]
        },
        {
          "output_type": "stream",
          "name": "stderr",
          "text": [
            "<ipython-input-11-2cfb0c20e87e>:48: DeprecationWarning: `trapz` is deprecated. Use `trapezoid` instead, or one of the numerical integration functions in `scipy.integrate`.\n",
            "  underwater_volume=np.trapz(result['area'],result['x'])\n",
            "<ipython-input-11-2cfb0c20e87e>:50: DeprecationWarning: `trapz` is deprecated. Use `trapezoid` instead, or one of the numerical integration functions in `scipy.integrate`.\n",
            "  lcb=np.trapz(result['area']*result['x'],result['x'])/underwater_volume\n",
            "<ipython-input-11-2cfb0c20e87e>:48: DeprecationWarning: `trapz` is deprecated. Use `trapezoid` instead, or one of the numerical integration functions in `scipy.integrate`.\n",
            "  underwater_volume=np.trapz(result['area'],result['x'])\n",
            "<ipython-input-11-2cfb0c20e87e>:50: DeprecationWarning: `trapz` is deprecated. Use `trapezoid` instead, or one of the numerical integration functions in `scipy.integrate`.\n",
            "  lcb=np.trapz(result['area']*result['x'],result['x'])/underwater_volume\n",
            "<ipython-input-11-2cfb0c20e87e>:48: DeprecationWarning: `trapz` is deprecated. Use `trapezoid` instead, or one of the numerical integration functions in `scipy.integrate`.\n",
            "  underwater_volume=np.trapz(result['area'],result['x'])\n",
            "<ipython-input-11-2cfb0c20e87e>:50: DeprecationWarning: `trapz` is deprecated. Use `trapezoid` instead, or one of the numerical integration functions in `scipy.integrate`.\n",
            "  lcb=np.trapz(result['area']*result['x'],result['x'])/underwater_volume\n"
          ]
        }
      ]
    },
    {
      "cell_type": "code",
      "source": [
        "T_mean= 8.181151625699037\n",
        "T_aft= 8.897649080802253\n",
        "T_fwd= 7.464654170595821\n",
        "Weight= 28263.81653510674\n",
        "Buoyancy= 28244.803092679966\n",
        "LCG= 81.3080508270182\n",
        "LCB= 81.29644580167859\n",
        "\n",
        "trim=T_fwd-T_aft\n",
        "print(trim)"
      ],
      "metadata": {
        "colab": {
          "base_uri": "https://localhost:8080/"
        },
        "id": "961qH14weGtj",
        "outputId": "df8e7452-1074-4bfa-99cb-b2e714d95a44"
      },
      "execution_count": null,
      "outputs": [
        {
          "output_type": "stream",
          "name": "stdout",
          "text": [
            "-1.4329949102064319\n"
          ]
        }
      ]
    }
  ]
}